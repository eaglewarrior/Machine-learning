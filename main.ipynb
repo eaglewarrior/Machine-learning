{
 "cells": [
  {
   "cell_type": "code",
   "execution_count": 29,
   "source": [
    "import numpy as np\r\n",
    "import pandas as pd\r\n",
    "import matplotlib.pyplot as plt\r\n",
    "\r\n",
    "from sklearn.model_selection import train_test_split\r\n",
    "from sklearn.linear_model import LinearRegression"
   ],
   "outputs": [],
   "metadata": {}
  },
  {
   "cell_type": "code",
   "execution_count": 30,
   "source": [
    "import seaborn as sns"
   ],
   "outputs": [],
   "metadata": {}
  },
  {
   "cell_type": "code",
   "execution_count": 31,
   "source": [
    "data = pd.read_csv(\"GOOG.csv\")\r\n",
    "data.shape"
   ],
   "outputs": [
    {
     "output_type": "execute_result",
     "data": {
      "text/plain": [
       "(252, 7)"
      ]
     },
     "metadata": {},
     "execution_count": 31
    }
   ],
   "metadata": {}
  },
  {
   "cell_type": "code",
   "execution_count": 32,
   "source": [
    "pd.set_option('display.max_rows',None)\r\n",
    "pd.set_option('display.max_columns',None)"
   ],
   "outputs": [],
   "metadata": {}
  },
  {
   "cell_type": "code",
   "execution_count": 33,
   "source": [
    "data.head()"
   ],
   "outputs": [
    {
     "output_type": "execute_result",
     "data": {
      "text/plain": [
       "         Date         Open         High          Low        Close  \\\n",
       "0  2020-08-14  1515.660034  1521.900024  1502.880005  1507.729980   \n",
       "1  2020-08-17  1514.670044  1525.609985  1507.969971  1517.979980   \n",
       "2  2020-08-18  1526.180054  1562.469971  1523.709961  1558.599976   \n",
       "3  2020-08-19  1553.310059  1573.680054  1543.949951  1547.530029   \n",
       "4  2020-08-20  1543.449951  1585.869995  1538.199951  1581.750000   \n",
       "\n",
       "     Adj Close   Volume  \n",
       "0  1507.729980  1354800  \n",
       "1  1517.979980  1378300  \n",
       "2  1558.599976  2027100  \n",
       "3  1547.530029  1660600  \n",
       "4  1581.750000  1706900  "
      ],
      "text/html": [
       "<div>\n",
       "<style scoped>\n",
       "    .dataframe tbody tr th:only-of-type {\n",
       "        vertical-align: middle;\n",
       "    }\n",
       "\n",
       "    .dataframe tbody tr th {\n",
       "        vertical-align: top;\n",
       "    }\n",
       "\n",
       "    .dataframe thead th {\n",
       "        text-align: right;\n",
       "    }\n",
       "</style>\n",
       "<table border=\"1\" class=\"dataframe\">\n",
       "  <thead>\n",
       "    <tr style=\"text-align: right;\">\n",
       "      <th></th>\n",
       "      <th>Date</th>\n",
       "      <th>Open</th>\n",
       "      <th>High</th>\n",
       "      <th>Low</th>\n",
       "      <th>Close</th>\n",
       "      <th>Adj Close</th>\n",
       "      <th>Volume</th>\n",
       "    </tr>\n",
       "  </thead>\n",
       "  <tbody>\n",
       "    <tr>\n",
       "      <th>0</th>\n",
       "      <td>2020-08-14</td>\n",
       "      <td>1515.660034</td>\n",
       "      <td>1521.900024</td>\n",
       "      <td>1502.880005</td>\n",
       "      <td>1507.729980</td>\n",
       "      <td>1507.729980</td>\n",
       "      <td>1354800</td>\n",
       "    </tr>\n",
       "    <tr>\n",
       "      <th>1</th>\n",
       "      <td>2020-08-17</td>\n",
       "      <td>1514.670044</td>\n",
       "      <td>1525.609985</td>\n",
       "      <td>1507.969971</td>\n",
       "      <td>1517.979980</td>\n",
       "      <td>1517.979980</td>\n",
       "      <td>1378300</td>\n",
       "    </tr>\n",
       "    <tr>\n",
       "      <th>2</th>\n",
       "      <td>2020-08-18</td>\n",
       "      <td>1526.180054</td>\n",
       "      <td>1562.469971</td>\n",
       "      <td>1523.709961</td>\n",
       "      <td>1558.599976</td>\n",
       "      <td>1558.599976</td>\n",
       "      <td>2027100</td>\n",
       "    </tr>\n",
       "    <tr>\n",
       "      <th>3</th>\n",
       "      <td>2020-08-19</td>\n",
       "      <td>1553.310059</td>\n",
       "      <td>1573.680054</td>\n",
       "      <td>1543.949951</td>\n",
       "      <td>1547.530029</td>\n",
       "      <td>1547.530029</td>\n",
       "      <td>1660600</td>\n",
       "    </tr>\n",
       "    <tr>\n",
       "      <th>4</th>\n",
       "      <td>2020-08-20</td>\n",
       "      <td>1543.449951</td>\n",
       "      <td>1585.869995</td>\n",
       "      <td>1538.199951</td>\n",
       "      <td>1581.750000</td>\n",
       "      <td>1581.750000</td>\n",
       "      <td>1706900</td>\n",
       "    </tr>\n",
       "  </tbody>\n",
       "</table>\n",
       "</div>"
      ]
     },
     "metadata": {},
     "execution_count": 33
    }
   ],
   "metadata": {}
  },
  {
   "cell_type": "code",
   "execution_count": 34,
   "source": [
    "data.describe()"
   ],
   "outputs": [
    {
     "output_type": "execute_result",
     "data": {
      "text/plain": [
       "              Open         High          Low        Close    Adj Close  \\\n",
       "count   252.000000   252.000000   252.000000   252.000000   252.000000   \n",
       "mean   2033.789589  2055.172756  2015.955556  2036.413054  2036.413054   \n",
       "std     394.053789   392.743940   394.655728   395.213631   395.213631   \n",
       "min    1411.030029  1443.708984  1406.550049  1415.209961  1415.209961   \n",
       "25%    1730.942475  1752.425018  1717.614990  1735.964966  1735.964966   \n",
       "50%    2047.665039  2071.656006  2019.325012  2043.779968  2043.779968   \n",
       "75%    2371.027466  2389.468750  2353.584961  2380.269959  2380.269959   \n",
       "max    2800.219971  2800.219971  2760.100098  2792.889893  2792.889893   \n",
       "\n",
       "             Volume  \n",
       "count  2.520000e+02  \n",
       "mean   1.508285e+06  \n",
       "std    6.141189e+05  \n",
       "min    3.468000e+05  \n",
       "25%    1.126025e+06  \n",
       "50%    1.355900e+06  \n",
       "75%    1.739225e+06  \n",
       "max    4.329100e+06  "
      ],
      "text/html": [
       "<div>\n",
       "<style scoped>\n",
       "    .dataframe tbody tr th:only-of-type {\n",
       "        vertical-align: middle;\n",
       "    }\n",
       "\n",
       "    .dataframe tbody tr th {\n",
       "        vertical-align: top;\n",
       "    }\n",
       "\n",
       "    .dataframe thead th {\n",
       "        text-align: right;\n",
       "    }\n",
       "</style>\n",
       "<table border=\"1\" class=\"dataframe\">\n",
       "  <thead>\n",
       "    <tr style=\"text-align: right;\">\n",
       "      <th></th>\n",
       "      <th>Open</th>\n",
       "      <th>High</th>\n",
       "      <th>Low</th>\n",
       "      <th>Close</th>\n",
       "      <th>Adj Close</th>\n",
       "      <th>Volume</th>\n",
       "    </tr>\n",
       "  </thead>\n",
       "  <tbody>\n",
       "    <tr>\n",
       "      <th>count</th>\n",
       "      <td>252.000000</td>\n",
       "      <td>252.000000</td>\n",
       "      <td>252.000000</td>\n",
       "      <td>252.000000</td>\n",
       "      <td>252.000000</td>\n",
       "      <td>2.520000e+02</td>\n",
       "    </tr>\n",
       "    <tr>\n",
       "      <th>mean</th>\n",
       "      <td>2033.789589</td>\n",
       "      <td>2055.172756</td>\n",
       "      <td>2015.955556</td>\n",
       "      <td>2036.413054</td>\n",
       "      <td>2036.413054</td>\n",
       "      <td>1.508285e+06</td>\n",
       "    </tr>\n",
       "    <tr>\n",
       "      <th>std</th>\n",
       "      <td>394.053789</td>\n",
       "      <td>392.743940</td>\n",
       "      <td>394.655728</td>\n",
       "      <td>395.213631</td>\n",
       "      <td>395.213631</td>\n",
       "      <td>6.141189e+05</td>\n",
       "    </tr>\n",
       "    <tr>\n",
       "      <th>min</th>\n",
       "      <td>1411.030029</td>\n",
       "      <td>1443.708984</td>\n",
       "      <td>1406.550049</td>\n",
       "      <td>1415.209961</td>\n",
       "      <td>1415.209961</td>\n",
       "      <td>3.468000e+05</td>\n",
       "    </tr>\n",
       "    <tr>\n",
       "      <th>25%</th>\n",
       "      <td>1730.942475</td>\n",
       "      <td>1752.425018</td>\n",
       "      <td>1717.614990</td>\n",
       "      <td>1735.964966</td>\n",
       "      <td>1735.964966</td>\n",
       "      <td>1.126025e+06</td>\n",
       "    </tr>\n",
       "    <tr>\n",
       "      <th>50%</th>\n",
       "      <td>2047.665039</td>\n",
       "      <td>2071.656006</td>\n",
       "      <td>2019.325012</td>\n",
       "      <td>2043.779968</td>\n",
       "      <td>2043.779968</td>\n",
       "      <td>1.355900e+06</td>\n",
       "    </tr>\n",
       "    <tr>\n",
       "      <th>75%</th>\n",
       "      <td>2371.027466</td>\n",
       "      <td>2389.468750</td>\n",
       "      <td>2353.584961</td>\n",
       "      <td>2380.269959</td>\n",
       "      <td>2380.269959</td>\n",
       "      <td>1.739225e+06</td>\n",
       "    </tr>\n",
       "    <tr>\n",
       "      <th>max</th>\n",
       "      <td>2800.219971</td>\n",
       "      <td>2800.219971</td>\n",
       "      <td>2760.100098</td>\n",
       "      <td>2792.889893</td>\n",
       "      <td>2792.889893</td>\n",
       "      <td>4.329100e+06</td>\n",
       "    </tr>\n",
       "  </tbody>\n",
       "</table>\n",
       "</div>"
      ]
     },
     "metadata": {},
     "execution_count": 34
    }
   ],
   "metadata": {}
  },
  {
   "cell_type": "code",
   "execution_count": 35,
   "source": [
    "data.corr()"
   ],
   "outputs": [
    {
     "output_type": "execute_result",
     "data": {
      "text/plain": [
       "               Open      High       Low     Close  Adj Close    Volume\n",
       "Open       1.000000  0.999164  0.999068  0.998235   0.998235 -0.412687\n",
       "High       0.999164  1.000000  0.999030  0.999179   0.999179 -0.404806\n",
       "Low        0.999068  0.999030  1.000000  0.999338   0.999338 -0.427202\n",
       "Close      0.998235  0.999179  0.999338  1.000000   1.000000 -0.419510\n",
       "Adj Close  0.998235  0.999179  0.999338  1.000000   1.000000 -0.419510\n",
       "Volume    -0.412687 -0.404806 -0.427202 -0.419510  -0.419510  1.000000"
      ],
      "text/html": [
       "<div>\n",
       "<style scoped>\n",
       "    .dataframe tbody tr th:only-of-type {\n",
       "        vertical-align: middle;\n",
       "    }\n",
       "\n",
       "    .dataframe tbody tr th {\n",
       "        vertical-align: top;\n",
       "    }\n",
       "\n",
       "    .dataframe thead th {\n",
       "        text-align: right;\n",
       "    }\n",
       "</style>\n",
       "<table border=\"1\" class=\"dataframe\">\n",
       "  <thead>\n",
       "    <tr style=\"text-align: right;\">\n",
       "      <th></th>\n",
       "      <th>Open</th>\n",
       "      <th>High</th>\n",
       "      <th>Low</th>\n",
       "      <th>Close</th>\n",
       "      <th>Adj Close</th>\n",
       "      <th>Volume</th>\n",
       "    </tr>\n",
       "  </thead>\n",
       "  <tbody>\n",
       "    <tr>\n",
       "      <th>Open</th>\n",
       "      <td>1.000000</td>\n",
       "      <td>0.999164</td>\n",
       "      <td>0.999068</td>\n",
       "      <td>0.998235</td>\n",
       "      <td>0.998235</td>\n",
       "      <td>-0.412687</td>\n",
       "    </tr>\n",
       "    <tr>\n",
       "      <th>High</th>\n",
       "      <td>0.999164</td>\n",
       "      <td>1.000000</td>\n",
       "      <td>0.999030</td>\n",
       "      <td>0.999179</td>\n",
       "      <td>0.999179</td>\n",
       "      <td>-0.404806</td>\n",
       "    </tr>\n",
       "    <tr>\n",
       "      <th>Low</th>\n",
       "      <td>0.999068</td>\n",
       "      <td>0.999030</td>\n",
       "      <td>1.000000</td>\n",
       "      <td>0.999338</td>\n",
       "      <td>0.999338</td>\n",
       "      <td>-0.427202</td>\n",
       "    </tr>\n",
       "    <tr>\n",
       "      <th>Close</th>\n",
       "      <td>0.998235</td>\n",
       "      <td>0.999179</td>\n",
       "      <td>0.999338</td>\n",
       "      <td>1.000000</td>\n",
       "      <td>1.000000</td>\n",
       "      <td>-0.419510</td>\n",
       "    </tr>\n",
       "    <tr>\n",
       "      <th>Adj Close</th>\n",
       "      <td>0.998235</td>\n",
       "      <td>0.999179</td>\n",
       "      <td>0.999338</td>\n",
       "      <td>1.000000</td>\n",
       "      <td>1.000000</td>\n",
       "      <td>-0.419510</td>\n",
       "    </tr>\n",
       "    <tr>\n",
       "      <th>Volume</th>\n",
       "      <td>-0.412687</td>\n",
       "      <td>-0.404806</td>\n",
       "      <td>-0.427202</td>\n",
       "      <td>-0.419510</td>\n",
       "      <td>-0.419510</td>\n",
       "      <td>1.000000</td>\n",
       "    </tr>\n",
       "  </tbody>\n",
       "</table>\n",
       "</div>"
      ]
     },
     "metadata": {},
     "execution_count": 35
    }
   ],
   "metadata": {}
  },
  {
   "cell_type": "code",
   "execution_count": 36,
   "source": [
    "sns.pairplot(data)"
   ],
   "outputs": [],
   "metadata": {}
  },
  {
   "cell_type": "code",
   "execution_count": null,
   "source": [
    "data.columns"
   ],
   "outputs": [
    {
     "output_type": "execute_result",
     "data": {
      "text/plain": [
       "Index(['Date', 'Open', 'High', 'Low', 'Close', 'Adj Close', 'Volume'], dtype='object')"
      ]
     },
     "metadata": {},
     "execution_count": 14
    }
   ],
   "metadata": {}
  },
  {
   "cell_type": "code",
   "execution_count": null,
   "source": [
    "x_data = data.drop(columns=[\"Close\",\"Adj Close\",'Volume','Date'])\r\n",
    "x_data.head()"
   ],
   "outputs": [
    {
     "output_type": "execute_result",
     "data": {
      "text/plain": [
       "          Open         High          Low\n",
       "0  1515.660034  1521.900024  1502.880005\n",
       "1  1514.670044  1525.609985  1507.969971\n",
       "2  1526.180054  1562.469971  1523.709961\n",
       "3  1553.310059  1573.680054  1543.949951\n",
       "4  1543.449951  1585.869995  1538.199951"
      ],
      "text/html": [
       "<div>\n",
       "<style scoped>\n",
       "    .dataframe tbody tr th:only-of-type {\n",
       "        vertical-align: middle;\n",
       "    }\n",
       "\n",
       "    .dataframe tbody tr th {\n",
       "        vertical-align: top;\n",
       "    }\n",
       "\n",
       "    .dataframe thead th {\n",
       "        text-align: right;\n",
       "    }\n",
       "</style>\n",
       "<table border=\"1\" class=\"dataframe\">\n",
       "  <thead>\n",
       "    <tr style=\"text-align: right;\">\n",
       "      <th></th>\n",
       "      <th>Open</th>\n",
       "      <th>High</th>\n",
       "      <th>Low</th>\n",
       "    </tr>\n",
       "  </thead>\n",
       "  <tbody>\n",
       "    <tr>\n",
       "      <th>0</th>\n",
       "      <td>1515.660034</td>\n",
       "      <td>1521.900024</td>\n",
       "      <td>1502.880005</td>\n",
       "    </tr>\n",
       "    <tr>\n",
       "      <th>1</th>\n",
       "      <td>1514.670044</td>\n",
       "      <td>1525.609985</td>\n",
       "      <td>1507.969971</td>\n",
       "    </tr>\n",
       "    <tr>\n",
       "      <th>2</th>\n",
       "      <td>1526.180054</td>\n",
       "      <td>1562.469971</td>\n",
       "      <td>1523.709961</td>\n",
       "    </tr>\n",
       "    <tr>\n",
       "      <th>3</th>\n",
       "      <td>1553.310059</td>\n",
       "      <td>1573.680054</td>\n",
       "      <td>1543.949951</td>\n",
       "    </tr>\n",
       "    <tr>\n",
       "      <th>4</th>\n",
       "      <td>1543.449951</td>\n",
       "      <td>1585.869995</td>\n",
       "      <td>1538.199951</td>\n",
       "    </tr>\n",
       "  </tbody>\n",
       "</table>\n",
       "</div>"
      ]
     },
     "metadata": {},
     "execution_count": 15
    }
   ],
   "metadata": {}
  },
  {
   "cell_type": "code",
   "execution_count": null,
   "source": [
    "x_train,x_test,y_train,y_test = train_test_split(x_data,data[\"Close\"],test_size=0.2,random_state=5)"
   ],
   "outputs": [],
   "metadata": {}
  },
  {
   "cell_type": "code",
   "execution_count": null,
   "source": [
    "from sklearn.model_selection import cross_val_score\r\n",
    "lc = LinearRegression()\r\n",
    "lc.fit(x_train,y_train)\r\n",
    "cross_val_score(lc,x_train,y_train)"
   ],
   "outputs": [
    {
     "output_type": "execute_result",
     "data": {
      "text/plain": [
       "array([0.99935377, 0.99904462, 0.99914018, 0.99929461, 0.99938871])"
      ]
     },
     "metadata": {},
     "execution_count": 19
    }
   ],
   "metadata": {}
  },
  {
   "cell_type": "code",
   "execution_count": null,
   "source": [
    "pred = lc.predict(x_test)\r\n",
    "pred"
   ],
   "outputs": [
    {
     "output_type": "execute_result",
     "data": {
      "text/plain": [
       "array([2754.48417135, 2293.03720918, 2125.15055482, 1776.5316178 ,\n",
       "       2549.82535522, 2527.02491125, 2029.17736436, 1735.50884018,\n",
       "       1573.42763713, 2031.97517532, 1719.41844737, 2094.20668103,\n",
       "       2348.32900376, 2770.18036   , 1772.09274536, 2214.74486941,\n",
       "       2270.80617758, 1757.62032511, 2310.18081742, 2665.03725617,\n",
       "       1641.240041  , 2369.76064154, 1597.67290431, 2056.36047134,\n",
       "       2291.91327419, 2418.10672545, 2425.61911115, 1721.92285881,\n",
       "       1807.33979342, 2609.95277872, 2595.38110802, 1560.23242674,\n",
       "       2255.70241369, 1743.44727151, 2416.74933546, 1607.361475  ,\n",
       "       2029.13603206, 2531.69995936, 1562.46128095, 2725.70098326,\n",
       "       2758.82272609, 1432.89155547, 1786.33928728, 1641.98061831,\n",
       "       1548.3184772 , 1444.36433437, 1418.48527971, 1549.33760462,\n",
       "       1450.98781284, 1562.01751181, 1777.43233031])"
      ]
     },
     "metadata": {},
     "execution_count": 23
    }
   ],
   "metadata": {}
  },
  {
   "cell_type": "code",
   "execution_count": null,
   "source": [
    "from sklearn.metrics import r2_score\r\n",
    "r2_score(y_test,pred)"
   ],
   "outputs": [
    {
     "output_type": "execute_result",
     "data": {
      "text/plain": [
       "0.9993450084186615"
      ]
     },
     "metadata": {},
     "execution_count": 25
    }
   ],
   "metadata": {}
  },
  {
   "cell_type": "code",
   "execution_count": null,
   "source": [
    "lc.get_params()"
   ],
   "outputs": [
    {
     "output_type": "execute_result",
     "data": {
      "text/plain": [
       "{'copy_X': True,\n",
       " 'fit_intercept': True,\n",
       " 'n_jobs': None,\n",
       " 'normalize': False,\n",
       " 'positive': False}"
      ]
     },
     "metadata": {},
     "execution_count": 28
    }
   ],
   "metadata": {}
  }
 ],
 "metadata": {
  "orig_nbformat": 4,
  "language_info": {
   "name": "python",
   "version": "3.8.10",
   "mimetype": "text/x-python",
   "codemirror_mode": {
    "name": "ipython",
    "version": 3
   },
   "pygments_lexer": "ipython3",
   "nbconvert_exporter": "python",
   "file_extension": ".py"
  },
  "kernelspec": {
   "name": "python3",
   "display_name": "Python 3.8.10 64-bit ('base': conda)"
  },
  "interpreter": {
   "hash": "1277da5b0906f516da71d46e1f77f597946a436060008e043fa8d17a45a3d047"
  }
 },
 "nbformat": 4,
 "nbformat_minor": 2
}